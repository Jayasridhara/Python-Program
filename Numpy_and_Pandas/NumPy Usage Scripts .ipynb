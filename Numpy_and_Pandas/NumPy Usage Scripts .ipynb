{
 "cells": [
  {
   "cell_type": "code",
   "execution_count": 1,
   "id": "0a641a0a",
   "metadata": {},
   "outputs": [
    {
     "name": "stdout",
     "output_type": "stream",
     "text": [
      "Enter 4 Int:1 2 3 4\n"
     ]
    }
   ],
   "source": [
    "a,b,c,d = map(int,input('Enter 4 Int:').split())"
   ]
  },
  {
   "cell_type": "code",
   "execution_count": 2,
   "id": "8adaec55",
   "metadata": {},
   "outputs": [
    {
     "data": {
      "text/plain": [
       "(1, 2, 3, 4)"
      ]
     },
     "execution_count": 2,
     "metadata": {},
     "output_type": "execute_result"
    }
   ],
   "source": [
    "a,b,c,d"
   ]
  },
  {
   "cell_type": "code",
   "execution_count": 3,
   "id": "a086703d",
   "metadata": {},
   "outputs": [
    {
     "name": "stdout",
     "output_type": "stream",
     "text": [
      "1 2 3 4\n"
     ]
    }
   ],
   "source": [
    "print(a,b,c,d)"
   ]
  },
  {
   "cell_type": "code",
   "execution_count": 4,
   "id": "a5bfe918",
   "metadata": {},
   "outputs": [
    {
     "name": "stdout",
     "output_type": "stream",
     "text": [
      "Enter 4 Floats:3.4 4.5 6.7 1.5\n"
     ]
    }
   ],
   "source": [
    "x,y,z,p = map(float,input('Enter 4 Floats:').split())"
   ]
  },
  {
   "cell_type": "code",
   "execution_count": 5,
   "id": "8a058ef0",
   "metadata": {},
   "outputs": [
    {
     "data": {
      "text/plain": [
       "(3.4, 4.5, 6.7, 1.5)"
      ]
     },
     "execution_count": 5,
     "metadata": {},
     "output_type": "execute_result"
    }
   ],
   "source": [
    "x,y,z,p"
   ]
  },
  {
   "cell_type": "code",
   "execution_count": 6,
   "id": "712766e6",
   "metadata": {},
   "outputs": [
    {
     "name": "stdout",
     "output_type": "stream",
     "text": [
      "Enter 4 Strings:Indium Chennai DS DE\n"
     ]
    }
   ],
   "source": [
    "s1,s2,s3,s4 = map(str,input('Enter 4 Strings:').split())"
   ]
  },
  {
   "cell_type": "code",
   "execution_count": 7,
   "id": "924f7555",
   "metadata": {},
   "outputs": [
    {
     "name": "stdout",
     "output_type": "stream",
     "text": [
      "Indium Chennai DS DE\n"
     ]
    }
   ],
   "source": [
    "print(s1,s2,s3,s4)"
   ]
  },
  {
   "cell_type": "code",
   "execution_count": 8,
   "id": "64e16705",
   "metadata": {},
   "outputs": [],
   "source": [
    "# NumPy"
   ]
  },
  {
   "cell_type": "code",
   "execution_count": 9,
   "id": "56e857d5",
   "metadata": {},
   "outputs": [],
   "source": [
    "N = 100000000"
   ]
  },
  {
   "cell_type": "code",
   "execution_count": 17,
   "id": "064e458f",
   "metadata": {},
   "outputs": [
    {
     "name": "stdout",
     "output_type": "stream",
     "text": [
      "CPU times: total: 27.9 s\n",
      "Wall time: 28.1 s\n"
     ]
    }
   ],
   "source": [
    "%%time\n",
    "list1 = list(range(N))\n",
    "for i in range(N):\n",
    "    list1[i] = list1[i]*list1[i]"
   ]
  },
  {
   "cell_type": "code",
   "execution_count": 11,
   "id": "6b25e853",
   "metadata": {},
   "outputs": [
    {
     "name": "stdout",
     "output_type": "stream",
     "text": [
      "CPU times: total: 13.8 s\n",
      "Wall time: 14 s\n"
     ]
    }
   ],
   "source": [
    "%%time\n",
    "list1 = list(range(N))\n",
    "list1 = [i*i for i in list1] # List Comprehension"
   ]
  },
  {
   "cell_type": "code",
   "execution_count": 12,
   "id": "beb13193",
   "metadata": {},
   "outputs": [
    {
     "name": "stdout",
     "output_type": "stream",
     "text": [
      "CPU times: total: 2.17 s\n",
      "Wall time: 2.17 s\n"
     ]
    }
   ],
   "source": [
    "%%time\n",
    "list1 = list(range(N))\n",
    "list1 = map(lambda i:i*i,list1) # (lambda var:expression,input_data)"
   ]
  },
  {
   "cell_type": "code",
   "execution_count": 13,
   "id": "7ac5e10e",
   "metadata": {},
   "outputs": [
    {
     "name": "stdout",
     "output_type": "stream",
     "text": [
      "CPU times: total: 17.9 s\n",
      "Wall time: 18 s\n"
     ]
    }
   ],
   "source": [
    "%%time\n",
    "list1 = list(range(N))\n",
    "list_sum = 0\n",
    "for item in list1:\n",
    "    list_sum+=item"
   ]
  },
  {
   "cell_type": "code",
   "execution_count": 14,
   "id": "17faa4f5",
   "metadata": {},
   "outputs": [
    {
     "name": "stdout",
     "output_type": "stream",
     "text": [
      "CPU times: total: 13.2 s\n",
      "Wall time: 13.5 s\n"
     ]
    }
   ],
   "source": [
    "%%time\n",
    "list1 = list(range(N))\n",
    "list_sum = sum(list1)"
   ]
  },
  {
   "cell_type": "code",
   "execution_count": 15,
   "id": "5a35b312",
   "metadata": {},
   "outputs": [],
   "source": [
    "import numpy as np"
   ]
  },
  {
   "cell_type": "code",
   "execution_count": 18,
   "id": "821cd012",
   "metadata": {},
   "outputs": [
    {
     "name": "stdout",
     "output_type": "stream",
     "text": [
      "CPU times: total: 438 ms\n",
      "Wall time: 426 ms\n"
     ]
    }
   ],
   "source": [
    "%%time\n",
    "arr = np.arange(N)\n",
    "arr = arr*arr"
   ]
  },
  {
   "cell_type": "code",
   "execution_count": null,
   "id": "6155bcd9",
   "metadata": {},
   "outputs": [],
   "source": [
    "# 1 ms = 0.001 Sec\n",
    "# 438ms = 0.438 Sec"
   ]
  },
  {
   "cell_type": "code",
   "execution_count": 19,
   "id": "a8f10075",
   "metadata": {},
   "outputs": [
    {
     "name": "stdout",
     "output_type": "stream",
     "text": [
      "CPU times: total: 266 ms\n",
      "Wall time: 279 ms\n"
     ]
    }
   ],
   "source": [
    "%%time\n",
    "arr = np.arange(N)\n",
    "arr_sum = np.sum(arr)"
   ]
  },
  {
   "cell_type": "code",
   "execution_count": 20,
   "id": "f13688d5",
   "metadata": {},
   "outputs": [
    {
     "name": "stdout",
     "output_type": "stream",
     "text": [
      "CPU times: total: 375 ms\n",
      "Wall time: 379 ms\n"
     ]
    }
   ],
   "source": [
    "%%time\n",
    "arr = np.arange(N)\n",
    "arr = arr+arr"
   ]
  },
  {
   "cell_type": "code",
   "execution_count": 21,
   "id": "58ea34b8",
   "metadata": {},
   "outputs": [],
   "source": [
    "# An array is a collection of items\n",
    "#stored at Contiguous location"
   ]
  },
  {
   "cell_type": "code",
   "execution_count": 22,
   "id": "a02e5d51",
   "metadata": {},
   "outputs": [],
   "source": [
    "# The idea is to store multiple items\n",
    "# of the same type together"
   ]
  },
  {
   "cell_type": "code",
   "execution_count": 23,
   "id": "cade9dcc",
   "metadata": {},
   "outputs": [],
   "source": [
    "# Create the Array"
   ]
  },
  {
   "cell_type": "code",
   "execution_count": 24,
   "id": "03dc8129",
   "metadata": {},
   "outputs": [],
   "source": [
    "arr = np.arange(5)"
   ]
  },
  {
   "cell_type": "code",
   "execution_count": 25,
   "id": "7c38d837",
   "metadata": {},
   "outputs": [
    {
     "name": "stdout",
     "output_type": "stream",
     "text": [
      "[0 1 2 3 4] <class 'numpy.ndarray'>\n"
     ]
    }
   ],
   "source": [
    "print(arr,type(arr))"
   ]
  },
  {
   "cell_type": "code",
   "execution_count": 26,
   "id": "02f3dcfc",
   "metadata": {},
   "outputs": [],
   "source": [
    "arr1 = np.array([0.0,2,4,6,8])"
   ]
  },
  {
   "cell_type": "code",
   "execution_count": 27,
   "id": "074eb7b4",
   "metadata": {},
   "outputs": [
    {
     "data": {
      "text/plain": [
       "array([0., 2., 4., 6., 8.])"
      ]
     },
     "execution_count": 27,
     "metadata": {},
     "output_type": "execute_result"
    }
   ],
   "source": [
    "arr1"
   ]
  },
  {
   "cell_type": "code",
   "execution_count": 28,
   "id": "5b91ae9d",
   "metadata": {},
   "outputs": [],
   "source": [
    "list1 = [0.0,2,4,6,8]"
   ]
  },
  {
   "cell_type": "code",
   "execution_count": 29,
   "id": "357f8e56",
   "metadata": {},
   "outputs": [
    {
     "data": {
      "text/plain": [
       "[0.0, 2, 4, 6, 8]"
      ]
     },
     "execution_count": 29,
     "metadata": {},
     "output_type": "execute_result"
    }
   ],
   "source": [
    "list1"
   ]
  },
  {
   "cell_type": "code",
   "execution_count": 30,
   "id": "06b4645c",
   "metadata": {},
   "outputs": [
    {
     "data": {
      "text/plain": [
       "float"
      ]
     },
     "execution_count": 30,
     "metadata": {},
     "output_type": "execute_result"
    }
   ],
   "source": [
    "type(list1[0])"
   ]
  },
  {
   "cell_type": "code",
   "execution_count": 31,
   "id": "636555d9",
   "metadata": {},
   "outputs": [
    {
     "data": {
      "text/plain": [
       "int"
      ]
     },
     "execution_count": 31,
     "metadata": {},
     "output_type": "execute_result"
    }
   ],
   "source": [
    "type(list1[1])"
   ]
  },
  {
   "cell_type": "code",
   "execution_count": 32,
   "id": "11ef9b54",
   "metadata": {},
   "outputs": [
    {
     "data": {
      "text/plain": [
       "array([0., 2., 4., 6., 8.])"
      ]
     },
     "execution_count": 32,
     "metadata": {},
     "output_type": "execute_result"
    }
   ],
   "source": [
    "arr1"
   ]
  },
  {
   "cell_type": "code",
   "execution_count": 33,
   "id": "29497bf6",
   "metadata": {},
   "outputs": [
    {
     "name": "stdout",
     "output_type": "stream",
     "text": [
      "[0. 2. 4. 6. 8.] <class 'numpy.ndarray'>\n"
     ]
    }
   ],
   "source": [
    "print(arr1,type(arr1))"
   ]
  },
  {
   "cell_type": "code",
   "execution_count": 34,
   "id": "de292d8d",
   "metadata": {},
   "outputs": [
    {
     "data": {
      "text/plain": [
       "dtype('float64')"
      ]
     },
     "execution_count": 34,
     "metadata": {},
     "output_type": "execute_result"
    }
   ],
   "source": [
    "arr1.dtype"
   ]
  },
  {
   "cell_type": "code",
   "execution_count": 35,
   "id": "df6b58af",
   "metadata": {},
   "outputs": [
    {
     "data": {
      "text/plain": [
       "array([0, 1, 2, 3, 4])"
      ]
     },
     "execution_count": 35,
     "metadata": {},
     "output_type": "execute_result"
    }
   ],
   "source": [
    "arr"
   ]
  },
  {
   "cell_type": "code",
   "execution_count": 36,
   "id": "3f849e4e",
   "metadata": {},
   "outputs": [
    {
     "data": {
      "text/plain": [
       "dtype('int32')"
      ]
     },
     "execution_count": 36,
     "metadata": {},
     "output_type": "execute_result"
    }
   ],
   "source": [
    "arr.dtype"
   ]
  },
  {
   "cell_type": "code",
   "execution_count": 37,
   "id": "0ea20cd9",
   "metadata": {},
   "outputs": [
    {
     "data": {
      "text/plain": [
       "1"
      ]
     },
     "execution_count": 37,
     "metadata": {},
     "output_type": "execute_result"
    }
   ],
   "source": [
    "arr.ndim"
   ]
  },
  {
   "cell_type": "code",
   "execution_count": 38,
   "id": "ade82e21",
   "metadata": {},
   "outputs": [],
   "source": [
    "# linear Algebra\n",
    "\n",
    "#[ 1  2\n",
    " # 3  4]"
   ]
  },
  {
   "cell_type": "code",
   "execution_count": 39,
   "id": "4f96b0bb",
   "metadata": {},
   "outputs": [
    {
     "data": {
      "text/plain": [
       "array([0, 1, 2, 3, 4])"
      ]
     },
     "execution_count": 39,
     "metadata": {},
     "output_type": "execute_result"
    }
   ],
   "source": [
    "arr"
   ]
  },
  {
   "cell_type": "code",
   "execution_count": 40,
   "id": "6c197672",
   "metadata": {},
   "outputs": [
    {
     "data": {
      "text/plain": [
       "5"
      ]
     },
     "execution_count": 40,
     "metadata": {},
     "output_type": "execute_result"
    }
   ],
   "source": [
    "arr.size"
   ]
  },
  {
   "cell_type": "code",
   "execution_count": 41,
   "id": "33acdd75",
   "metadata": {},
   "outputs": [
    {
     "data": {
      "text/plain": [
       "4"
      ]
     },
     "execution_count": 41,
     "metadata": {},
     "output_type": "execute_result"
    }
   ],
   "source": [
    "arr.itemsize"
   ]
  },
  {
   "cell_type": "code",
   "execution_count": 42,
   "id": "18ee50d9",
   "metadata": {},
   "outputs": [
    {
     "data": {
      "text/plain": [
       "array([0., 2., 4., 6., 8.])"
      ]
     },
     "execution_count": 42,
     "metadata": {},
     "output_type": "execute_result"
    }
   ],
   "source": [
    "arr1"
   ]
  },
  {
   "cell_type": "code",
   "execution_count": 43,
   "id": "1aae1dc9",
   "metadata": {},
   "outputs": [
    {
     "data": {
      "text/plain": [
       "5"
      ]
     },
     "execution_count": 43,
     "metadata": {},
     "output_type": "execute_result"
    }
   ],
   "source": [
    "arr1.size"
   ]
  },
  {
   "cell_type": "code",
   "execution_count": 44,
   "id": "f9d191da",
   "metadata": {},
   "outputs": [
    {
     "data": {
      "text/plain": [
       "8"
      ]
     },
     "execution_count": 44,
     "metadata": {},
     "output_type": "execute_result"
    }
   ],
   "source": [
    "arr1.itemsize"
   ]
  },
  {
   "cell_type": "code",
   "execution_count": 45,
   "id": "2084ce26",
   "metadata": {},
   "outputs": [],
   "source": [
    "arr2d = np.array([\n",
    "                [1,2,3],\n",
    "                [4,5,6]\n",
    "])"
   ]
  },
  {
   "cell_type": "code",
   "execution_count": 46,
   "id": "f523ca5e",
   "metadata": {},
   "outputs": [
    {
     "data": {
      "text/plain": [
       "array([[1, 2, 3],\n",
       "       [4, 5, 6]])"
      ]
     },
     "execution_count": 46,
     "metadata": {},
     "output_type": "execute_result"
    }
   ],
   "source": [
    "arr2d"
   ]
  },
  {
   "cell_type": "code",
   "execution_count": 47,
   "id": "aaadb166",
   "metadata": {},
   "outputs": [],
   "source": [
    "arr2d1 = ([[1,2,3],[4,5,6]])"
   ]
  },
  {
   "cell_type": "code",
   "execution_count": 48,
   "id": "3fe84a9f",
   "metadata": {},
   "outputs": [
    {
     "data": {
      "text/plain": [
       "[[1, 2, 3], [4, 5, 6]]"
      ]
     },
     "execution_count": 48,
     "metadata": {},
     "output_type": "execute_result"
    }
   ],
   "source": [
    "arr2d1"
   ]
  },
  {
   "cell_type": "code",
   "execution_count": 49,
   "id": "32588763",
   "metadata": {},
   "outputs": [
    {
     "data": {
      "text/plain": [
       "array([[1, 2, 3],\n",
       "       [4, 5, 6]])"
      ]
     },
     "execution_count": 49,
     "metadata": {},
     "output_type": "execute_result"
    }
   ],
   "source": [
    "arr2d"
   ]
  },
  {
   "cell_type": "code",
   "execution_count": 50,
   "id": "8a3513d4",
   "metadata": {},
   "outputs": [
    {
     "data": {
      "text/plain": [
       "2"
      ]
     },
     "execution_count": 50,
     "metadata": {},
     "output_type": "execute_result"
    }
   ],
   "source": [
    "arr2d.ndim"
   ]
  },
  {
   "cell_type": "code",
   "execution_count": 51,
   "id": "490ee26e",
   "metadata": {},
   "outputs": [
    {
     "data": {
      "text/plain": [
       "array([0., 2., 4., 6., 8.])"
      ]
     },
     "execution_count": 51,
     "metadata": {},
     "output_type": "execute_result"
    }
   ],
   "source": [
    "arr1"
   ]
  },
  {
   "cell_type": "code",
   "execution_count": 52,
   "id": "96802499",
   "metadata": {},
   "outputs": [
    {
     "data": {
      "text/plain": [
       "1"
      ]
     },
     "execution_count": 52,
     "metadata": {},
     "output_type": "execute_result"
    }
   ],
   "source": [
    "arr1.ndim"
   ]
  },
  {
   "cell_type": "code",
   "execution_count": 53,
   "id": "dd06ec92",
   "metadata": {},
   "outputs": [
    {
     "data": {
      "text/plain": [
       "array([[1, 2, 3],\n",
       "       [4, 5, 6]])"
      ]
     },
     "execution_count": 53,
     "metadata": {},
     "output_type": "execute_result"
    }
   ],
   "source": [
    "arr2d"
   ]
  },
  {
   "cell_type": "code",
   "execution_count": 54,
   "id": "b10cc362",
   "metadata": {},
   "outputs": [
    {
     "data": {
      "text/plain": [
       "(2, 3)"
      ]
     },
     "execution_count": 54,
     "metadata": {},
     "output_type": "execute_result"
    }
   ],
   "source": [
    "arr2d.shape"
   ]
  },
  {
   "cell_type": "code",
   "execution_count": 55,
   "id": "81328741",
   "metadata": {},
   "outputs": [],
   "source": [
    "# (2,3)==>(Row , Column)"
   ]
  },
  {
   "cell_type": "code",
   "execution_count": 56,
   "id": "6c0c579e",
   "metadata": {},
   "outputs": [],
   "source": [
    "# (3, 3)"
   ]
  },
  {
   "cell_type": "code",
   "execution_count": 63,
   "id": "3341b0db",
   "metadata": {},
   "outputs": [
    {
     "data": {
      "text/plain": [
       "array([[1., 1., 1.],\n",
       "       [1., 1., 1.],\n",
       "       [1., 1., 1.]])"
      ]
     },
     "execution_count": 63,
     "metadata": {},
     "output_type": "execute_result"
    }
   ],
   "source": [
    "np.ones((3,3))"
   ]
  },
  {
   "cell_type": "code",
   "execution_count": 64,
   "id": "090b0f1f",
   "metadata": {},
   "outputs": [
    {
     "data": {
      "text/plain": [
       "array([[0., 0., 0., 0.],\n",
       "       [0., 0., 0., 0.],\n",
       "       [0., 0., 0., 0.],\n",
       "       [0., 0., 0., 0.]])"
      ]
     },
     "execution_count": 64,
     "metadata": {},
     "output_type": "execute_result"
    }
   ],
   "source": [
    "np.zeros((4,4))"
   ]
  },
  {
   "cell_type": "code",
   "execution_count": 65,
   "id": "ea0a9969",
   "metadata": {},
   "outputs": [
    {
     "data": {
      "text/plain": [
       "array([[1729., 1729.],\n",
       "       [1729., 1729.]])"
      ]
     },
     "execution_count": 65,
     "metadata": {},
     "output_type": "execute_result"
    }
   ],
   "source": [
    "1729* np.ones((2,2))"
   ]
  },
  {
   "cell_type": "code",
   "execution_count": 66,
   "id": "97389c78",
   "metadata": {},
   "outputs": [
    {
     "data": {
      "text/plain": [
       "array([[1., 1.],\n",
       "       [1., 1.]])"
      ]
     },
     "execution_count": 66,
     "metadata": {},
     "output_type": "execute_result"
    }
   ],
   "source": [
    "np.ones((2,2))"
   ]
  },
  {
   "cell_type": "code",
   "execution_count": 67,
   "id": "6dfe2df8",
   "metadata": {},
   "outputs": [
    {
     "data": {
      "text/plain": [
       "array([[-0.93193821, -0.02324433, -1.04904957],\n",
       "       [-0.9435952 , -0.48438114,  0.2141938 ]])"
      ]
     },
     "execution_count": 67,
     "metadata": {},
     "output_type": "execute_result"
    }
   ],
   "source": [
    "np.random.randn(2,3) # n specifies normal distribution"
   ]
  },
  {
   "cell_type": "code",
   "execution_count": 68,
   "id": "0f1d31d7",
   "metadata": {},
   "outputs": [
    {
     "data": {
      "text/plain": [
       "array([[0.72890632, 0.34133786, 0.60091268],\n",
       "       [0.05433955, 0.50004168, 0.35344567]])"
      ]
     },
     "execution_count": 68,
     "metadata": {},
     "output_type": "execute_result"
    }
   ],
   "source": [
    "np.random.rand(2,3) # random numbers"
   ]
  },
  {
   "cell_type": "code",
   "execution_count": 69,
   "id": "4cc417b0",
   "metadata": {},
   "outputs": [
    {
     "data": {
      "text/plain": [
       "array([[0.78551087, 0.03136873, 0.5460665 ],\n",
       "       [0.35378886, 0.11894327, 0.91679805],\n",
       "       [0.92402774, 0.6834248 , 0.65887911]])"
      ]
     },
     "execution_count": 69,
     "metadata": {},
     "output_type": "execute_result"
    }
   ],
   "source": [
    "np.random.rand(3,3)"
   ]
  },
  {
   "cell_type": "code",
   "execution_count": 70,
   "id": "c11dbf71",
   "metadata": {},
   "outputs": [
    {
     "data": {
      "text/plain": [
       "array([[0.38315496],\n",
       "       [0.95690294],\n",
       "       [0.25509796],\n",
       "       [0.47559237],\n",
       "       [0.75528274],\n",
       "       [0.34220463],\n",
       "       [0.90427174],\n",
       "       [0.60559034],\n",
       "       [0.95092478],\n",
       "       [0.98978564]])"
      ]
     },
     "execution_count": 70,
     "metadata": {},
     "output_type": "execute_result"
    }
   ],
   "source": [
    "np.random.rand(10,1)"
   ]
  },
  {
   "cell_type": "code",
   "execution_count": 71,
   "id": "571adac7",
   "metadata": {},
   "outputs": [
    {
     "data": {
      "text/plain": [
       "array([[17, 26, 65],\n",
       "       [ 8, 13, 68]])"
      ]
     },
     "execution_count": 71,
     "metadata": {},
     "output_type": "execute_result"
    }
   ],
   "source": [
    "np.random.randint(0,100,(2,3))"
   ]
  },
  {
   "cell_type": "code",
   "execution_count": 72,
   "id": "da8c331c",
   "metadata": {},
   "outputs": [
    {
     "data": {
      "text/plain": [
       "array([ 7, 12, 17, 22, 27, 32, 37, 42, 47, 52, 57, 62, 67])"
      ]
     },
     "execution_count": 72,
     "metadata": {},
     "output_type": "execute_result"
    }
   ],
   "source": [
    "np.arange(7,71,5)"
   ]
  },
  {
   "cell_type": "code",
   "execution_count": 73,
   "id": "559e40a2",
   "metadata": {},
   "outputs": [],
   "source": [
    "# numpy Operations"
   ]
  },
  {
   "cell_type": "code",
   "execution_count": 78,
   "id": "6c0c3f2e",
   "metadata": {},
   "outputs": [],
   "source": [
    "arr1 = np.random.rand(3,4)"
   ]
  },
  {
   "cell_type": "code",
   "execution_count": 79,
   "id": "edb5867f",
   "metadata": {},
   "outputs": [
    {
     "data": {
      "text/plain": [
       "array([[0.31944605, 0.2438149 , 0.51507962, 0.43587548],\n",
       "       [0.90522444, 0.76373978, 0.53977021, 0.31266541],\n",
       "       [0.08125379, 0.30301996, 0.41126303, 0.53395216]])"
      ]
     },
     "execution_count": 79,
     "metadata": {},
     "output_type": "execute_result"
    }
   ],
   "source": [
    "arr1"
   ]
  },
  {
   "cell_type": "code",
   "execution_count": 80,
   "id": "84ce5d4a",
   "metadata": {},
   "outputs": [],
   "source": [
    "arr2 = np.random.rand(3,4)"
   ]
  },
  {
   "cell_type": "code",
   "execution_count": 81,
   "id": "2bbd14ef",
   "metadata": {},
   "outputs": [
    {
     "data": {
      "text/plain": [
       "array([[0.65789676, 0.43424273, 0.89097432, 0.86120427],\n",
       "       [0.42786188, 0.41643451, 0.09601584, 0.29263503],\n",
       "       [0.99021785, 0.58570312, 0.5076453 , 0.66991643]])"
      ]
     },
     "execution_count": 81,
     "metadata": {},
     "output_type": "execute_result"
    }
   ],
   "source": [
    "arr2"
   ]
  },
  {
   "cell_type": "code",
   "execution_count": 82,
   "id": "bf22db05",
   "metadata": {},
   "outputs": [
    {
     "data": {
      "text/plain": [
       "array([[0.97734281, 0.67805762, 1.40605394, 1.29707974],\n",
       "       [1.33308632, 1.18017428, 0.63578605, 0.60530044],\n",
       "       [1.07147164, 0.88872308, 0.91890833, 1.20386859]])"
      ]
     },
     "execution_count": 82,
     "metadata": {},
     "output_type": "execute_result"
    }
   ],
   "source": [
    "arr1 + arr2"
   ]
  },
  {
   "cell_type": "code",
   "execution_count": 83,
   "id": "6591e5c1",
   "metadata": {},
   "outputs": [
    {
     "data": {
      "text/plain": [
       "array([[-0.33845071, -0.19042783, -0.3758947 , -0.42532879],\n",
       "       [ 0.47736257,  0.34730527,  0.44375436,  0.02003038],\n",
       "       [-0.90896406, -0.28268316, -0.09638228, -0.13596427]])"
      ]
     },
     "execution_count": 83,
     "metadata": {},
     "output_type": "execute_result"
    }
   ],
   "source": [
    "arr1 - arr2"
   ]
  },
  {
   "cell_type": "code",
   "execution_count": 84,
   "id": "0448cedb",
   "metadata": {},
   "outputs": [
    {
     "data": {
      "text/plain": [
       "array([[0.21016252, 0.10587485, 0.45892271, 0.37537782],\n",
       "       [0.38731103, 0.3180476 , 0.05182649, 0.09149685],\n",
       "       [0.08045895, 0.17747974, 0.20877574, 0.35770332]])"
      ]
     },
     "execution_count": 84,
     "metadata": {},
     "output_type": "execute_result"
    }
   ],
   "source": [
    "arr1*arr2"
   ]
  },
  {
   "cell_type": "code",
   "execution_count": 85,
   "id": "b7b88499",
   "metadata": {},
   "outputs": [],
   "source": [
    "# Matrix Multiplication"
   ]
  },
  {
   "cell_type": "code",
   "execution_count": 86,
   "id": "cda2722a",
   "metadata": {},
   "outputs": [
    {
     "data": {
      "text/plain": [
       "array([[0.4855565 , 0.56147146, 0.57810827, 0.50612322],\n",
       "       [2.11569315, 1.83399734, 5.62167848, 1.06844834],\n",
       "       [0.08205648, 0.51736102, 0.81013855, 0.79704294]])"
      ]
     },
     "execution_count": 86,
     "metadata": {},
     "output_type": "execute_result"
    }
   ],
   "source": [
    "arr1 / arr2"
   ]
  },
  {
   "cell_type": "code",
   "execution_count": 87,
   "id": "f62a7f1d",
   "metadata": {},
   "outputs": [
    {
     "data": {
      "text/plain": [
       "array([[0.31404068, 0.24140644, 0.49260414, 0.42220418],\n",
       "       [0.78656377, 0.69162735, 0.51393888, 0.30759591],\n",
       "       [0.08116441, 0.29840393, 0.39976736, 0.50893933]])"
      ]
     },
     "execution_count": 87,
     "metadata": {},
     "output_type": "execute_result"
    }
   ],
   "source": [
    "np.sin(arr1)"
   ]
  },
  {
   "cell_type": "code",
   "execution_count": 88,
   "id": "828e0d64",
   "metadata": {},
   "outputs": [
    {
     "data": {
      "text/plain": [
       "array([[0.94940953, 0.9704241 , 0.8702535 , 0.90650076],\n",
       "       [0.61750906, 0.72225454, 0.8578268 , 0.95151708],\n",
       "       [0.99670073, 0.95443967, 0.91661664, 0.86080239]])"
      ]
     },
     "execution_count": 88,
     "metadata": {},
     "output_type": "execute_result"
    }
   ],
   "source": [
    "np.cos(arr1)"
   ]
  },
  {
   "cell_type": "code",
   "execution_count": 89,
   "id": "6e837ab5",
   "metadata": {},
   "outputs": [
    {
     "data": {
      "text/plain": [
       "array([[0.56519558, 0.49377616, 0.71769048, 0.66020866],\n",
       "       [0.95143284, 0.87392206, 0.73469055, 0.55916492],\n",
       "       [0.2850505 , 0.55047249, 0.64129792, 0.7307203 ]])"
      ]
     },
     "execution_count": 89,
     "metadata": {},
     "output_type": "execute_result"
    }
   ],
   "source": [
    "np.sqrt(arr1)"
   ]
  },
  {
   "cell_type": "code",
   "execution_count": 90,
   "id": "4d2730f9",
   "metadata": {},
   "outputs": [],
   "source": [
    "arr1 = np.arange(6)"
   ]
  },
  {
   "cell_type": "code",
   "execution_count": 91,
   "id": "ab0fa038",
   "metadata": {},
   "outputs": [
    {
     "data": {
      "text/plain": [
       "array([0, 1, 2, 3, 4, 5])"
      ]
     },
     "execution_count": 91,
     "metadata": {},
     "output_type": "execute_result"
    }
   ],
   "source": [
    "arr1"
   ]
  },
  {
   "cell_type": "code",
   "execution_count": 92,
   "id": "fedf9bb1",
   "metadata": {},
   "outputs": [
    {
     "data": {
      "text/plain": [
       "(6,)"
      ]
     },
     "execution_count": 92,
     "metadata": {},
     "output_type": "execute_result"
    }
   ],
   "source": [
    "arr1.shape"
   ]
  },
  {
   "cell_type": "code",
   "execution_count": 93,
   "id": "38b4a71e",
   "metadata": {},
   "outputs": [],
   "source": [
    "arr1 =arr1.reshape((3,2))"
   ]
  },
  {
   "cell_type": "code",
   "execution_count": 94,
   "id": "e4ad4402",
   "metadata": {},
   "outputs": [
    {
     "data": {
      "text/plain": [
       "array([[0, 1],\n",
       "       [2, 3],\n",
       "       [4, 5]])"
      ]
     },
     "execution_count": 94,
     "metadata": {},
     "output_type": "execute_result"
    }
   ],
   "source": [
    "arr1"
   ]
  },
  {
   "cell_type": "code",
   "execution_count": 95,
   "id": "78413ad0",
   "metadata": {},
   "outputs": [],
   "source": [
    "arr2 = np.arange(6)"
   ]
  },
  {
   "cell_type": "code",
   "execution_count": 96,
   "id": "8fdb3a89",
   "metadata": {},
   "outputs": [
    {
     "data": {
      "text/plain": [
       "array([0, 1, 2, 3, 4, 5])"
      ]
     },
     "execution_count": 96,
     "metadata": {},
     "output_type": "execute_result"
    }
   ],
   "source": [
    "arr2"
   ]
  },
  {
   "cell_type": "code",
   "execution_count": 97,
   "id": "cb334d8a",
   "metadata": {},
   "outputs": [],
   "source": [
    "arr2 = arr2.reshape((2,3))"
   ]
  },
  {
   "cell_type": "code",
   "execution_count": 98,
   "id": "7f53a37c",
   "metadata": {},
   "outputs": [
    {
     "data": {
      "text/plain": [
       "array([[0, 1, 2],\n",
       "       [3, 4, 5]])"
      ]
     },
     "execution_count": 98,
     "metadata": {},
     "output_type": "execute_result"
    }
   ],
   "source": [
    "arr2"
   ]
  },
  {
   "cell_type": "code",
   "execution_count": 99,
   "id": "60f02872",
   "metadata": {},
   "outputs": [],
   "source": [
    "arr3 = np.arange(9)"
   ]
  },
  {
   "cell_type": "code",
   "execution_count": 100,
   "id": "3aed92f7",
   "metadata": {},
   "outputs": [],
   "source": [
    "arr3 = arr3.reshape((3,3))"
   ]
  },
  {
   "cell_type": "code",
   "execution_count": 101,
   "id": "73ae52c1",
   "metadata": {},
   "outputs": [
    {
     "data": {
      "text/plain": [
       "array([[0, 1, 2],\n",
       "       [3, 4, 5],\n",
       "       [6, 7, 8]])"
      ]
     },
     "execution_count": 101,
     "metadata": {},
     "output_type": "execute_result"
    }
   ],
   "source": [
    "arr3"
   ]
  },
  {
   "cell_type": "code",
   "execution_count": 102,
   "id": "a0d475ec",
   "metadata": {},
   "outputs": [],
   "source": [
    "arr4 = np.arange(12)"
   ]
  },
  {
   "cell_type": "code",
   "execution_count": 103,
   "id": "8b7762f1",
   "metadata": {},
   "outputs": [],
   "source": [
    "arr4 = arr4.reshape((3,4))"
   ]
  },
  {
   "cell_type": "code",
   "execution_count": 104,
   "id": "05264b2c",
   "metadata": {},
   "outputs": [
    {
     "data": {
      "text/plain": [
       "array([[ 0,  1,  2,  3],\n",
       "       [ 4,  5,  6,  7],\n",
       "       [ 8,  9, 10, 11]])"
      ]
     },
     "execution_count": 104,
     "metadata": {},
     "output_type": "execute_result"
    }
   ],
   "source": [
    "arr4"
   ]
  },
  {
   "cell_type": "code",
   "execution_count": 105,
   "id": "f6dc3b9c",
   "metadata": {},
   "outputs": [],
   "source": [
    "arr5 = np.arange(12)"
   ]
  },
  {
   "cell_type": "code",
   "execution_count": 106,
   "id": "aef279ef",
   "metadata": {},
   "outputs": [],
   "source": [
    "arr5 = arr5.reshape((4,3))"
   ]
  },
  {
   "cell_type": "code",
   "execution_count": 107,
   "id": "ac1c21d4",
   "metadata": {},
   "outputs": [
    {
     "data": {
      "text/plain": [
       "array([[ 0,  1,  2],\n",
       "       [ 3,  4,  5],\n",
       "       [ 6,  7,  8],\n",
       "       [ 9, 10, 11]])"
      ]
     },
     "execution_count": 107,
     "metadata": {},
     "output_type": "execute_result"
    }
   ],
   "source": [
    "arr5"
   ]
  },
  {
   "cell_type": "code",
   "execution_count": 108,
   "id": "3255b24b",
   "metadata": {},
   "outputs": [],
   "source": [
    "arr6 = np.arange(6).reshape((3,2)) # chaining"
   ]
  },
  {
   "cell_type": "code",
   "execution_count": 109,
   "id": "742aafc0",
   "metadata": {},
   "outputs": [
    {
     "data": {
      "text/plain": [
       "array([[0, 1],\n",
       "       [2, 3],\n",
       "       [4, 5]])"
      ]
     },
     "execution_count": 109,
     "metadata": {},
     "output_type": "execute_result"
    }
   ],
   "source": [
    "arr6"
   ]
  },
  {
   "cell_type": "code",
   "execution_count": 110,
   "id": "8ac1d936",
   "metadata": {},
   "outputs": [
    {
     "data": {
      "text/plain": [
       "array([[1, 2],\n",
       "       [3, 4],\n",
       "       [5, 6]])"
      ]
     },
     "execution_count": 110,
     "metadata": {},
     "output_type": "execute_result"
    }
   ],
   "source": [
    "arr6+1   # Not goint to update the original Matrix"
   ]
  },
  {
   "cell_type": "code",
   "execution_count": 111,
   "id": "317b4e92",
   "metadata": {},
   "outputs": [
    {
     "data": {
      "text/plain": [
       "array([[0, 2, 4],\n",
       "       [1, 3, 5]])"
      ]
     },
     "execution_count": 111,
     "metadata": {},
     "output_type": "execute_result"
    }
   ],
   "source": [
    "arr6.T # Transpose"
   ]
  },
  {
   "cell_type": "code",
   "execution_count": 112,
   "id": "45821904",
   "metadata": {},
   "outputs": [],
   "source": [
    "# Stats With NumPy"
   ]
  },
  {
   "cell_type": "code",
   "execution_count": 113,
   "id": "b909f8c8",
   "metadata": {},
   "outputs": [],
   "source": [
    "arr = np.arange(10)"
   ]
  },
  {
   "cell_type": "code",
   "execution_count": 114,
   "id": "96a06ee8",
   "metadata": {},
   "outputs": [
    {
     "data": {
      "text/plain": [
       "array([0, 1, 2, 3, 4, 5, 6, 7, 8, 9])"
      ]
     },
     "execution_count": 114,
     "metadata": {},
     "output_type": "execute_result"
    }
   ],
   "source": [
    "arr"
   ]
  },
  {
   "cell_type": "code",
   "execution_count": 115,
   "id": "7ae307b3",
   "metadata": {},
   "outputs": [
    {
     "data": {
      "text/plain": [
       "0"
      ]
     },
     "execution_count": 115,
     "metadata": {},
     "output_type": "execute_result"
    }
   ],
   "source": [
    "np.amin(arr)"
   ]
  },
  {
   "cell_type": "code",
   "execution_count": 116,
   "id": "3aa3023a",
   "metadata": {},
   "outputs": [
    {
     "data": {
      "text/plain": [
       "9"
      ]
     },
     "execution_count": 116,
     "metadata": {},
     "output_type": "execute_result"
    }
   ],
   "source": [
    "np.amax(arr)"
   ]
  },
  {
   "cell_type": "code",
   "execution_count": 117,
   "id": "c73d5cd0",
   "metadata": {},
   "outputs": [
    {
     "data": {
      "text/plain": [
       "4.5"
      ]
     },
     "execution_count": 117,
     "metadata": {},
     "output_type": "execute_result"
    }
   ],
   "source": [
    "np.mean(arr)"
   ]
  },
  {
   "cell_type": "code",
   "execution_count": 118,
   "id": "e799360e",
   "metadata": {},
   "outputs": [
    {
     "data": {
      "text/plain": [
       "8.25"
      ]
     },
     "execution_count": 118,
     "metadata": {},
     "output_type": "execute_result"
    }
   ],
   "source": [
    "np.var(arr)"
   ]
  },
  {
   "cell_type": "code",
   "execution_count": 119,
   "id": "b4333ed3",
   "metadata": {},
   "outputs": [
    {
     "data": {
      "text/plain": [
       "2.8722813232690143"
      ]
     },
     "execution_count": 119,
     "metadata": {},
     "output_type": "execute_result"
    }
   ],
   "source": [
    "np.std(arr)"
   ]
  },
  {
   "cell_type": "code",
   "execution_count": 120,
   "id": "8f073240",
   "metadata": {},
   "outputs": [
    {
     "data": {
      "text/plain": [
       "4.5"
      ]
     },
     "execution_count": 120,
     "metadata": {},
     "output_type": "execute_result"
    }
   ],
   "source": [
    "np.median(arr)"
   ]
  },
  {
   "cell_type": "code",
   "execution_count": 121,
   "id": "c4aa646f",
   "metadata": {},
   "outputs": [],
   "source": [
    "# 0,0,1,1,1,2,3,3,3,3,4  Mode -->3 Mode-->1 Mode-->2"
   ]
  },
  {
   "cell_type": "code",
   "execution_count": 122,
   "id": "124ebc72",
   "metadata": {},
   "outputs": [],
   "source": [
    "# Case Study"
   ]
  },
  {
   "cell_type": "code",
   "execution_count": 123,
   "id": "447ae78b",
   "metadata": {},
   "outputs": [],
   "source": [
    "# weights"
   ]
  },
  {
   "cell_type": "code",
   "execution_count": 124,
   "id": "ad66b609",
   "metadata": {},
   "outputs": [],
   "source": [
    "arr1 = np.random.randint(50,80,100)"
   ]
  },
  {
   "cell_type": "code",
   "execution_count": 125,
   "id": "c4328cbc",
   "metadata": {},
   "outputs": [
    {
     "data": {
      "text/plain": [
       "array([56, 53, 59, 79, 62, 57, 76, 74, 66, 78, 71, 61, 58, 54, 54, 71, 66,\n",
       "       70, 68, 79, 72, 79, 74, 69, 53, 60, 77, 73, 75, 71, 63, 58, 63, 53,\n",
       "       67, 66, 59, 52, 59, 64, 59, 52, 79, 70, 58, 74, 57, 76, 53, 73, 57,\n",
       "       70, 72, 59, 50, 72, 58, 58, 76, 50, 60, 61, 68, 75, 55, 75, 55, 68,\n",
       "       60, 58, 55, 78, 56, 59, 55, 79, 74, 66, 51, 53, 58, 76, 60, 75, 69,\n",
       "       56, 75, 74, 57, 52, 59, 50, 50, 54, 50, 53, 70, 55, 66, 51])"
      ]
     },
     "execution_count": 125,
     "metadata": {},
     "output_type": "execute_result"
    }
   ],
   "source": [
    "arr1"
   ]
  },
  {
   "cell_type": "code",
   "execution_count": 126,
   "id": "a5ca6bb5",
   "metadata": {},
   "outputs": [],
   "source": [
    "# Height"
   ]
  },
  {
   "cell_type": "code",
   "execution_count": 127,
   "id": "d65f7549",
   "metadata": {},
   "outputs": [],
   "source": [
    "arr2 = np.random.randint(150,185,100)"
   ]
  },
  {
   "cell_type": "code",
   "execution_count": 128,
   "id": "03db3229",
   "metadata": {},
   "outputs": [
    {
     "data": {
      "text/plain": [
       "array([165, 170, 168, 160, 158, 179, 177, 159, 161, 165, 153, 150, 180,\n",
       "       155, 181, 168, 184, 150, 170, 161, 170, 156, 178, 183, 183, 176,\n",
       "       158, 174, 169, 176, 161, 157, 177, 156, 184, 182, 152, 154, 171,\n",
       "       163, 159, 183, 172, 154, 156, 181, 182, 155, 151, 180, 177, 171,\n",
       "       161, 151, 179, 152, 174, 168, 175, 181, 176, 177, 154, 165, 159,\n",
       "       161, 171, 161, 163, 183, 160, 156, 179, 155, 164, 165, 156, 155,\n",
       "       160, 151, 177, 156, 156, 165, 179, 161, 171, 183, 172, 157, 154,\n",
       "       170, 165, 172, 175, 161, 161, 169, 167, 154])"
      ]
     },
     "execution_count": 128,
     "metadata": {},
     "output_type": "execute_result"
    }
   ],
   "source": [
    "arr2"
   ]
  },
  {
   "cell_type": "code",
   "execution_count": 129,
   "id": "647fbf6a",
   "metadata": {},
   "outputs": [],
   "source": [
    "# Age"
   ]
  },
  {
   "cell_type": "code",
   "execution_count": 130,
   "id": "99699952",
   "metadata": {},
   "outputs": [],
   "source": [
    "arr3 = np.random.randint(17,22,100)"
   ]
  },
  {
   "cell_type": "code",
   "execution_count": 131,
   "id": "b3d08454",
   "metadata": {},
   "outputs": [
    {
     "data": {
      "text/plain": [
       "array([21, 18, 20, 18, 17, 17, 21, 21, 21, 18, 20, 19, 19, 21, 20, 20, 20,\n",
       "       18, 21, 21, 19, 17, 20, 18, 20, 21, 17, 18, 18, 20, 20, 18, 19, 18,\n",
       "       18, 18, 18, 19, 18, 18, 18, 21, 17, 21, 18, 20, 19, 17, 18, 21, 19,\n",
       "       20, 21, 21, 17, 17, 17, 21, 19, 20, 18, 21, 21, 18, 17, 17, 18, 20,\n",
       "       20, 21, 17, 17, 17, 21, 17, 21, 20, 20, 19, 17, 20, 19, 19, 17, 21,\n",
       "       21, 17, 17, 17, 18, 18, 21, 18, 18, 18, 18, 18, 20, 19, 19])"
      ]
     },
     "execution_count": 131,
     "metadata": {},
     "output_type": "execute_result"
    }
   ],
   "source": [
    "arr3"
   ]
  },
  {
   "cell_type": "code",
   "execution_count": 132,
   "id": "5d9032f8",
   "metadata": {},
   "outputs": [
    {
     "data": {
      "text/plain": [
       "array([56, 53, 59, 79, 62, 57, 76, 74, 66, 78, 71, 61, 58, 54, 54, 71, 66,\n",
       "       70, 68, 79, 72, 79, 74, 69, 53, 60, 77, 73, 75, 71, 63, 58, 63, 53,\n",
       "       67, 66, 59, 52, 59, 64, 59, 52, 79, 70, 58, 74, 57, 76, 53, 73, 57,\n",
       "       70, 72, 59, 50, 72, 58, 58, 76, 50, 60, 61, 68, 75, 55, 75, 55, 68,\n",
       "       60, 58, 55, 78, 56, 59, 55, 79, 74, 66, 51, 53, 58, 76, 60, 75, 69,\n",
       "       56, 75, 74, 57, 52, 59, 50, 50, 54, 50, 53, 70, 55, 66, 51])"
      ]
     },
     "execution_count": 132,
     "metadata": {},
     "output_type": "execute_result"
    }
   ],
   "source": [
    "arr1"
   ]
  },
  {
   "cell_type": "code",
   "execution_count": 133,
   "id": "f99b00ef",
   "metadata": {},
   "outputs": [
    {
     "data": {
      "text/plain": [
       "array([165, 170, 168, 160, 158, 179, 177, 159, 161, 165, 153, 150, 180,\n",
       "       155, 181, 168, 184, 150, 170, 161, 170, 156, 178, 183, 183, 176,\n",
       "       158, 174, 169, 176, 161, 157, 177, 156, 184, 182, 152, 154, 171,\n",
       "       163, 159, 183, 172, 154, 156, 181, 182, 155, 151, 180, 177, 171,\n",
       "       161, 151, 179, 152, 174, 168, 175, 181, 176, 177, 154, 165, 159,\n",
       "       161, 171, 161, 163, 183, 160, 156, 179, 155, 164, 165, 156, 155,\n",
       "       160, 151, 177, 156, 156, 165, 179, 161, 171, 183, 172, 157, 154,\n",
       "       170, 165, 172, 175, 161, 161, 169, 167, 154])"
      ]
     },
     "execution_count": 133,
     "metadata": {},
     "output_type": "execute_result"
    }
   ],
   "source": [
    "arr2"
   ]
  },
  {
   "cell_type": "code",
   "execution_count": 134,
   "id": "24f181c9",
   "metadata": {},
   "outputs": [
    {
     "data": {
      "text/plain": [
       "array([21, 18, 20, 18, 17, 17, 21, 21, 21, 18, 20, 19, 19, 21, 20, 20, 20,\n",
       "       18, 21, 21, 19, 17, 20, 18, 20, 21, 17, 18, 18, 20, 20, 18, 19, 18,\n",
       "       18, 18, 18, 19, 18, 18, 18, 21, 17, 21, 18, 20, 19, 17, 18, 21, 19,\n",
       "       20, 21, 21, 17, 17, 17, 21, 19, 20, 18, 21, 21, 18, 17, 17, 18, 20,\n",
       "       20, 21, 17, 17, 17, 21, 17, 21, 20, 20, 19, 17, 20, 19, 19, 17, 21,\n",
       "       21, 17, 17, 17, 18, 18, 21, 18, 18, 18, 18, 18, 20, 19, 19])"
      ]
     },
     "execution_count": 134,
     "metadata": {},
     "output_type": "execute_result"
    }
   ],
   "source": [
    "arr3"
   ]
  },
  {
   "cell_type": "code",
   "execution_count": 135,
   "id": "49a14567",
   "metadata": {},
   "outputs": [],
   "source": [
    "# arr1,arr2,arr3---> min-->weight Height Age"
   ]
  },
  {
   "cell_type": "code",
   "execution_count": 136,
   "id": "a8b45c08",
   "metadata": {},
   "outputs": [
    {
     "data": {
      "text/plain": [
       "(300,)"
      ]
     },
     "execution_count": 136,
     "metadata": {},
     "output_type": "execute_result"
    }
   ],
   "source": [
    "np.concatenate((arr1,arr2,arr3)).shape"
   ]
  },
  {
   "cell_type": "code",
   "execution_count": 137,
   "id": "5b29d6fc",
   "metadata": {},
   "outputs": [],
   "source": [
    "arr4 = np.concatenate((arr1,arr2,arr3))"
   ]
  },
  {
   "cell_type": "code",
   "execution_count": 138,
   "id": "0e6b780f",
   "metadata": {},
   "outputs": [
    {
     "data": {
      "text/plain": [
       "array([ 56,  53,  59,  79,  62,  57,  76,  74,  66,  78,  71,  61,  58,\n",
       "        54,  54,  71,  66,  70,  68,  79,  72,  79,  74,  69,  53,  60,\n",
       "        77,  73,  75,  71,  63,  58,  63,  53,  67,  66,  59,  52,  59,\n",
       "        64,  59,  52,  79,  70,  58,  74,  57,  76,  53,  73,  57,  70,\n",
       "        72,  59,  50,  72,  58,  58,  76,  50,  60,  61,  68,  75,  55,\n",
       "        75,  55,  68,  60,  58,  55,  78,  56,  59,  55,  79,  74,  66,\n",
       "        51,  53,  58,  76,  60,  75,  69,  56,  75,  74,  57,  52,  59,\n",
       "        50,  50,  54,  50,  53,  70,  55,  66,  51, 165, 170, 168, 160,\n",
       "       158, 179, 177, 159, 161, 165, 153, 150, 180, 155, 181, 168, 184,\n",
       "       150, 170, 161, 170, 156, 178, 183, 183, 176, 158, 174, 169, 176,\n",
       "       161, 157, 177, 156, 184, 182, 152, 154, 171, 163, 159, 183, 172,\n",
       "       154, 156, 181, 182, 155, 151, 180, 177, 171, 161, 151, 179, 152,\n",
       "       174, 168, 175, 181, 176, 177, 154, 165, 159, 161, 171, 161, 163,\n",
       "       183, 160, 156, 179, 155, 164, 165, 156, 155, 160, 151, 177, 156,\n",
       "       156, 165, 179, 161, 171, 183, 172, 157, 154, 170, 165, 172, 175,\n",
       "       161, 161, 169, 167, 154,  21,  18,  20,  18,  17,  17,  21,  21,\n",
       "        21,  18,  20,  19,  19,  21,  20,  20,  20,  18,  21,  21,  19,\n",
       "        17,  20,  18,  20,  21,  17,  18,  18,  20,  20,  18,  19,  18,\n",
       "        18,  18,  18,  19,  18,  18,  18,  21,  17,  21,  18,  20,  19,\n",
       "        17,  18,  21,  19,  20,  21,  21,  17,  17,  17,  21,  19,  20,\n",
       "        18,  21,  21,  18,  17,  17,  18,  20,  20,  21,  17,  17,  17,\n",
       "        21,  17,  21,  20,  20,  19,  17,  20,  19,  19,  17,  21,  21,\n",
       "        17,  17,  17,  18,  18,  21,  18,  18,  18,  18,  18,  20,  19,\n",
       "        19])"
      ]
     },
     "execution_count": 138,
     "metadata": {},
     "output_type": "execute_result"
    }
   ],
   "source": [
    "arr4"
   ]
  },
  {
   "cell_type": "code",
   "execution_count": 139,
   "id": "5e0e425e",
   "metadata": {},
   "outputs": [],
   "source": [
    "#(3,100)   Weight--->100\n",
    "       #   Height-->100\n",
    "        #  Age----->100   (w(max),h(max),a(max))\n",
    "            #             (w(min),h(min),a(min))"
   ]
  },
  {
   "cell_type": "code",
   "execution_count": 140,
   "id": "78d156df",
   "metadata": {},
   "outputs": [
    {
     "data": {
      "text/plain": [
       "17"
      ]
     },
     "execution_count": 140,
     "metadata": {},
     "output_type": "execute_result"
    }
   ],
   "source": [
    "np.amin(arr4)"
   ]
  },
  {
   "cell_type": "code",
   "execution_count": 141,
   "id": "f4bd7c5f",
   "metadata": {},
   "outputs": [
    {
     "data": {
      "text/plain": [
       "184"
      ]
     },
     "execution_count": 141,
     "metadata": {},
     "output_type": "execute_result"
    }
   ],
   "source": [
    "np.amax(arr4)"
   ]
  },
  {
   "cell_type": "code",
   "execution_count": 142,
   "id": "b1a5ff58",
   "metadata": {},
   "outputs": [
    {
     "data": {
      "text/plain": [
       "(3, 100)"
      ]
     },
     "execution_count": 142,
     "metadata": {},
     "output_type": "execute_result"
    }
   ],
   "source": [
    "np.vstack((arr1,arr2,arr3)).shape"
   ]
  },
  {
   "cell_type": "code",
   "execution_count": 143,
   "id": "4cf9248a",
   "metadata": {},
   "outputs": [],
   "source": [
    "# Weight-->100\n",
    "# Height-->100\n",
    "# Age----->100"
   ]
  },
  {
   "cell_type": "code",
   "execution_count": 144,
   "id": "a3fddb8c",
   "metadata": {},
   "outputs": [],
   "source": [
    "arr2d = np.vstack((arr1,arr2,arr3))"
   ]
  },
  {
   "cell_type": "code",
   "execution_count": 145,
   "id": "c154b305",
   "metadata": {},
   "outputs": [
    {
     "data": {
      "text/plain": [
       "array([[ 56,  53,  59,  79,  62,  57,  76,  74,  66,  78,  71,  61,  58,\n",
       "         54,  54,  71,  66,  70,  68,  79,  72,  79,  74,  69,  53,  60,\n",
       "         77,  73,  75,  71,  63,  58,  63,  53,  67,  66,  59,  52,  59,\n",
       "         64,  59,  52,  79,  70,  58,  74,  57,  76,  53,  73,  57,  70,\n",
       "         72,  59,  50,  72,  58,  58,  76,  50,  60,  61,  68,  75,  55,\n",
       "         75,  55,  68,  60,  58,  55,  78,  56,  59,  55,  79,  74,  66,\n",
       "         51,  53,  58,  76,  60,  75,  69,  56,  75,  74,  57,  52,  59,\n",
       "         50,  50,  54,  50,  53,  70,  55,  66,  51],\n",
       "       [165, 170, 168, 160, 158, 179, 177, 159, 161, 165, 153, 150, 180,\n",
       "        155, 181, 168, 184, 150, 170, 161, 170, 156, 178, 183, 183, 176,\n",
       "        158, 174, 169, 176, 161, 157, 177, 156, 184, 182, 152, 154, 171,\n",
       "        163, 159, 183, 172, 154, 156, 181, 182, 155, 151, 180, 177, 171,\n",
       "        161, 151, 179, 152, 174, 168, 175, 181, 176, 177, 154, 165, 159,\n",
       "        161, 171, 161, 163, 183, 160, 156, 179, 155, 164, 165, 156, 155,\n",
       "        160, 151, 177, 156, 156, 165, 179, 161, 171, 183, 172, 157, 154,\n",
       "        170, 165, 172, 175, 161, 161, 169, 167, 154],\n",
       "       [ 21,  18,  20,  18,  17,  17,  21,  21,  21,  18,  20,  19,  19,\n",
       "         21,  20,  20,  20,  18,  21,  21,  19,  17,  20,  18,  20,  21,\n",
       "         17,  18,  18,  20,  20,  18,  19,  18,  18,  18,  18,  19,  18,\n",
       "         18,  18,  21,  17,  21,  18,  20,  19,  17,  18,  21,  19,  20,\n",
       "         21,  21,  17,  17,  17,  21,  19,  20,  18,  21,  21,  18,  17,\n",
       "         17,  18,  20,  20,  21,  17,  17,  17,  21,  17,  21,  20,  20,\n",
       "         19,  17,  20,  19,  19,  17,  21,  21,  17,  17,  17,  18,  18,\n",
       "         21,  18,  18,  18,  18,  18,  20,  19,  19]])"
      ]
     },
     "execution_count": 145,
     "metadata": {},
     "output_type": "execute_result"
    }
   ],
   "source": [
    "arr2d"
   ]
  },
  {
   "cell_type": "code",
   "execution_count": 146,
   "id": "c7f93af9",
   "metadata": {},
   "outputs": [
    {
     "data": {
      "text/plain": [
       "17"
      ]
     },
     "execution_count": 146,
     "metadata": {},
     "output_type": "execute_result"
    }
   ],
   "source": [
    "np.amin(arr2d)"
   ]
  },
  {
   "cell_type": "code",
   "execution_count": 147,
   "id": "0bc56da4",
   "metadata": {},
   "outputs": [],
   "source": [
    "# min( Weight, Height, Age)"
   ]
  },
  {
   "cell_type": "code",
   "execution_count": 148,
   "id": "09808037",
   "metadata": {},
   "outputs": [
    {
     "data": {
      "text/plain": [
       "array([ 50, 150,  17])"
      ]
     },
     "execution_count": 148,
     "metadata": {},
     "output_type": "execute_result"
    }
   ],
   "source": [
    "np.amin(arr2d,axis=1)"
   ]
  },
  {
   "cell_type": "code",
   "execution_count": 149,
   "id": "363fbf20",
   "metadata": {},
   "outputs": [
    {
     "data": {
      "text/plain": [
       "array([ 79, 184,  21])"
      ]
     },
     "execution_count": 149,
     "metadata": {},
     "output_type": "execute_result"
    }
   ],
   "source": [
    "np.amax(arr2d,axis=1)"
   ]
  },
  {
   "cell_type": "code",
   "execution_count": 150,
   "id": "330863c2",
   "metadata": {},
   "outputs": [
    {
     "data": {
      "text/plain": [
       "array([ 63.63, 166.52,  18.95])"
      ]
     },
     "execution_count": 150,
     "metadata": {},
     "output_type": "execute_result"
    }
   ],
   "source": [
    "np.mean(arr2d,axis=1)"
   ]
  },
  {
   "cell_type": "code",
   "execution_count": 151,
   "id": "ffcd9790",
   "metadata": {},
   "outputs": [
    {
     "data": {
      "text/plain": [
       "array([ 61., 165.,  19.])"
      ]
     },
     "execution_count": 151,
     "metadata": {},
     "output_type": "execute_result"
    }
   ],
   "source": [
    "np.median(arr2d,axis=1)"
   ]
  },
  {
   "cell_type": "code",
   "execution_count": 152,
   "id": "ef2c6660",
   "metadata": {},
   "outputs": [],
   "source": [
    "# concatenate vs vstack "
   ]
  },
  {
   "cell_type": "code",
   "execution_count": 153,
   "id": "a19e5375",
   "metadata": {},
   "outputs": [],
   "source": [
    "arrv = np.array([10,'Indium',30])"
   ]
  },
  {
   "cell_type": "code",
   "execution_count": 154,
   "id": "1854e993",
   "metadata": {},
   "outputs": [
    {
     "data": {
      "text/plain": [
       "array(['10', 'Indium', '30'], dtype='<U11')"
      ]
     },
     "execution_count": 154,
     "metadata": {},
     "output_type": "execute_result"
    }
   ],
   "source": [
    "arrv"
   ]
  },
  {
   "cell_type": "code",
   "execution_count": 155,
   "id": "37da9db6",
   "metadata": {},
   "outputs": [
    {
     "data": {
      "text/plain": [
       "dtype('<U11')"
      ]
     },
     "execution_count": 155,
     "metadata": {},
     "output_type": "execute_result"
    }
   ],
   "source": [
    "arrv.dtype"
   ]
  },
  {
   "cell_type": "code",
   "execution_count": 156,
   "id": "82f0a6e1",
   "metadata": {},
   "outputs": [
    {
     "data": {
      "text/plain": [
       "44"
      ]
     },
     "execution_count": 156,
     "metadata": {},
     "output_type": "execute_result"
    }
   ],
   "source": [
    "arrv.itemsize"
   ]
  },
  {
   "cell_type": "code",
   "execution_count": 157,
   "id": "84158c15",
   "metadata": {},
   "outputs": [],
   "source": [
    "arrn = np.array([10,-1,3,56,89,-2])"
   ]
  },
  {
   "cell_type": "code",
   "execution_count": 158,
   "id": "a71c5796",
   "metadata": {},
   "outputs": [
    {
     "data": {
      "text/plain": [
       "array([10, -1,  3, 56, 89, -2])"
      ]
     },
     "execution_count": 158,
     "metadata": {},
     "output_type": "execute_result"
    }
   ],
   "source": [
    "arrn"
   ]
  },
  {
   "cell_type": "code",
   "execution_count": 159,
   "id": "4c01461e",
   "metadata": {},
   "outputs": [
    {
     "data": {
      "text/plain": [
       "dtype('int32')"
      ]
     },
     "execution_count": 159,
     "metadata": {},
     "output_type": "execute_result"
    }
   ],
   "source": [
    "arrn.dtype"
   ]
  },
  {
   "cell_type": "code",
   "execution_count": 160,
   "id": "28bcb1af",
   "metadata": {},
   "outputs": [
    {
     "data": {
      "text/plain": [
       "89"
      ]
     },
     "execution_count": 160,
     "metadata": {},
     "output_type": "execute_result"
    }
   ],
   "source": [
    "arrn.max()"
   ]
  },
  {
   "cell_type": "code",
   "execution_count": 161,
   "id": "3028b166",
   "metadata": {},
   "outputs": [
    {
     "data": {
      "text/plain": [
       "4"
      ]
     },
     "execution_count": 161,
     "metadata": {},
     "output_type": "execute_result"
    }
   ],
   "source": [
    "arrn.argmax()"
   ]
  },
  {
   "cell_type": "code",
   "execution_count": 162,
   "id": "1629a211",
   "metadata": {},
   "outputs": [
    {
     "data": {
      "text/plain": [
       "-2"
      ]
     },
     "execution_count": 162,
     "metadata": {},
     "output_type": "execute_result"
    }
   ],
   "source": [
    "arrn.min()"
   ]
  },
  {
   "cell_type": "code",
   "execution_count": 163,
   "id": "17644bb1",
   "metadata": {},
   "outputs": [
    {
     "data": {
      "text/plain": [
       "5"
      ]
     },
     "execution_count": 163,
     "metadata": {},
     "output_type": "execute_result"
    }
   ],
   "source": [
    "arrn.argmin()"
   ]
  },
  {
   "cell_type": "code",
   "execution_count": 164,
   "id": "46dba2ec",
   "metadata": {},
   "outputs": [
    {
     "data": {
      "text/plain": [
       "array([10, -1,  3, 56, 89, -2])"
      ]
     },
     "execution_count": 164,
     "metadata": {},
     "output_type": "execute_result"
    }
   ],
   "source": [
    "arrn"
   ]
  },
  {
   "cell_type": "code",
   "execution_count": 165,
   "id": "eed8ca54",
   "metadata": {},
   "outputs": [],
   "source": [
    "arrn.sort()"
   ]
  },
  {
   "cell_type": "code",
   "execution_count": 166,
   "id": "3791eb2b",
   "metadata": {},
   "outputs": [
    {
     "data": {
      "text/plain": [
       "array([-2, -1,  3, 10, 56, 89])"
      ]
     },
     "execution_count": 166,
     "metadata": {},
     "output_type": "execute_result"
    }
   ],
   "source": [
    "arrn"
   ]
  },
  {
   "cell_type": "code",
   "execution_count": 167,
   "id": "a69f5faf",
   "metadata": {},
   "outputs": [
    {
     "data": {
      "text/plain": [
       "155"
      ]
     },
     "execution_count": 167,
     "metadata": {},
     "output_type": "execute_result"
    }
   ],
   "source": [
    "arrn.sum()"
   ]
  },
  {
   "cell_type": "code",
   "execution_count": 168,
   "id": "01bd9ca6",
   "metadata": {},
   "outputs": [],
   "source": [
    "# enumerate"
   ]
  },
  {
   "cell_type": "code",
   "execution_count": 169,
   "id": "f4ab2dc6",
   "metadata": {},
   "outputs": [],
   "source": [
    "arre = np.array([10,10,20,20,10,10])"
   ]
  },
  {
   "cell_type": "code",
   "execution_count": 170,
   "id": "cf9f5dad",
   "metadata": {},
   "outputs": [
    {
     "data": {
      "text/plain": [
       "array([10, 10, 20, 20, 10, 10])"
      ]
     },
     "execution_count": 170,
     "metadata": {},
     "output_type": "execute_result"
    }
   ],
   "source": [
    "arre"
   ]
  },
  {
   "cell_type": "code",
   "execution_count": 172,
   "id": "87f42fda",
   "metadata": {},
   "outputs": [
    {
     "name": "stdout",
     "output_type": "stream",
     "text": [
      "10\n",
      "10\n",
      "20\n",
      "20\n",
      "10\n",
      "10\n"
     ]
    }
   ],
   "source": [
    "for item in arre:\n",
    "    print(item)"
   ]
  },
  {
   "cell_type": "code",
   "execution_count": 174,
   "id": "e5eac270",
   "metadata": {},
   "outputs": [
    {
     "name": "stdout",
     "output_type": "stream",
     "text": [
      "0 10\n",
      "1 10\n",
      "2 20\n",
      "3 20\n",
      "4 10\n",
      "5 10\n"
     ]
    }
   ],
   "source": [
    "for index,number in enumerate(arre):\n",
    "    print(index,number)"
   ]
  },
  {
   "cell_type": "code",
   "execution_count": 175,
   "id": "a5d0a05a",
   "metadata": {},
   "outputs": [
    {
     "name": "stdout",
     "output_type": "stream",
     "text": [
      "10\n",
      "0\n",
      "10\n",
      "1\n",
      "10\n",
      "4\n",
      "10\n",
      "5\n"
     ]
    }
   ],
   "source": [
    "for i,n in enumerate(arre):\n",
    "    if n==10:\n",
    "        print(n)\n",
    "        print(i)"
   ]
  },
  {
   "cell_type": "code",
   "execution_count": 177,
   "id": "1be3157a",
   "metadata": {},
   "outputs": [
    {
     "data": {
      "text/plain": [
       "array([10, 10, 20, 20, 10, 10])"
      ]
     },
     "execution_count": 177,
     "metadata": {},
     "output_type": "execute_result"
    }
   ],
   "source": [
    "arre"
   ]
  },
  {
   "cell_type": "code",
   "execution_count": 178,
   "id": "feb8892d",
   "metadata": {},
   "outputs": [
    {
     "data": {
      "text/plain": [
       "10"
      ]
     },
     "execution_count": 178,
     "metadata": {},
     "output_type": "execute_result"
    }
   ],
   "source": [
    "arre[0]"
   ]
  },
  {
   "cell_type": "code",
   "execution_count": 179,
   "id": "e12a8e66",
   "metadata": {},
   "outputs": [
    {
     "data": {
      "text/plain": [
       "array([10, 20])"
      ]
     },
     "execution_count": 179,
     "metadata": {},
     "output_type": "execute_result"
    }
   ],
   "source": [
    "arre[1:3]"
   ]
  },
  {
   "cell_type": "code",
   "execution_count": 180,
   "id": "60f6eb4f",
   "metadata": {},
   "outputs": [
    {
     "data": {
      "text/plain": [
       "array([10, 20, 20, 10, 10])"
      ]
     },
     "execution_count": 180,
     "metadata": {},
     "output_type": "execute_result"
    }
   ],
   "source": [
    "arre[1:6]"
   ]
  },
  {
   "cell_type": "code",
   "execution_count": 181,
   "id": "33566526",
   "metadata": {},
   "outputs": [
    {
     "data": {
      "text/plain": [
       "array([20, 20, 10])"
      ]
     },
     "execution_count": 181,
     "metadata": {},
     "output_type": "execute_result"
    }
   ],
   "source": [
    "arre[2:5]"
   ]
  },
  {
   "cell_type": "code",
   "execution_count": 182,
   "id": "ed3391c1",
   "metadata": {},
   "outputs": [
    {
     "data": {
      "text/plain": [
       "array([-2, -1,  3, 10, 56, 89])"
      ]
     },
     "execution_count": 182,
     "metadata": {},
     "output_type": "execute_result"
    }
   ],
   "source": [
    "arrn"
   ]
  },
  {
   "cell_type": "code",
   "execution_count": 184,
   "id": "2d783732",
   "metadata": {},
   "outputs": [
    {
     "data": {
      "text/plain": [
       "155"
      ]
     },
     "execution_count": 184,
     "metadata": {},
     "output_type": "execute_result"
    }
   ],
   "source": [
    "arrn.sum()"
   ]
  },
  {
   "cell_type": "code",
   "execution_count": 185,
   "id": "fca0503e",
   "metadata": {},
   "outputs": [
    {
     "data": {
      "text/plain": [
       "array([ -2,  -3,   0,  10,  66, 155], dtype=int32)"
      ]
     },
     "execution_count": 185,
     "metadata": {},
     "output_type": "execute_result"
    }
   ],
   "source": [
    "arrn.cumsum()"
   ]
  },
  {
   "cell_type": "code",
   "execution_count": 186,
   "id": "1e9b639f",
   "metadata": {},
   "outputs": [
    {
     "data": {
      "text/plain": [
       "array([    -2,      2,      6,     60,   3360, 299040], dtype=int32)"
      ]
     },
     "execution_count": 186,
     "metadata": {},
     "output_type": "execute_result"
    }
   ],
   "source": [
    "arrn.cumprod()"
   ]
  },
  {
   "cell_type": "code",
   "execution_count": 187,
   "id": "f546ed91",
   "metadata": {},
   "outputs": [],
   "source": [
    "# go to the documentation and accordingly you can apply various functions"
   ]
  },
  {
   "cell_type": "code",
   "execution_count": 189,
   "id": "dbd51e2c",
   "metadata": {},
   "outputs": [],
   "source": [
    "#arrn.argpartition()"
   ]
  },
  {
   "cell_type": "code",
   "execution_count": null,
   "id": "a3327ba0",
   "metadata": {},
   "outputs": [],
   "source": []
  }
 ],
 "metadata": {
  "kernelspec": {
   "display_name": "Python 3 (ipykernel)",
   "language": "python",
   "name": "python3"
  },
  "language_info": {
   "codemirror_mode": {
    "name": "ipython",
    "version": 3
   },
   "file_extension": ".py",
   "mimetype": "text/x-python",
   "name": "python",
   "nbconvert_exporter": "python",
   "pygments_lexer": "ipython3",
   "version": "3.10.9"
  }
 },
 "nbformat": 4,
 "nbformat_minor": 5
}
